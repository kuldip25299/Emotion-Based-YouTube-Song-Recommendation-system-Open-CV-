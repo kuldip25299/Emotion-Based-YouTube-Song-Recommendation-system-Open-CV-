{
 "cells": [
  {
   "cell_type": "code",
   "execution_count": null,
   "metadata": {},
   "outputs": [
    {
     "name": "stderr",
     "output_type": "stream",
     "text": [
      "Using TensorFlow backend.\n"
     ]
    }
   ],
   "source": [
    "#importing the libraries.............\n",
    "\n",
    "from keras.models import load_model\n",
    "from time import sleep\n",
    "from keras.preprocessing.image import img_to_array\n",
    "from keras.preprocessing import image\n",
    "import cv2           #OpenCV is a library of programming functions mainly aimed at real-time computer vision.\n",
    "import numpy as np\n",
    "\n",
    "\n",
    "#The word “cascade” in the classifier name means that the resultant classifier consists of several simpler classifiers\n",
    "#(stages) that are applied subsequently to a region of interest until at some stage the candidate is rejected or all the stages are passed.\n",
    "\n",
    "\n",
    "face_classifier = cv2.CascadeClassifier(r'C:\\Users\\Kuldeep\\Desktop\\Emotion-recognition-master\\haarcascade_frontalface_default.xml')\n",
    "classifier =load_model(r'C:\\Users\\Kuldeep\\Desktop\\Emotion-recognition-master\\Emotion_little_vgg3.h5')\n",
    "\n",
    "class_labels = ['Angry','Happy','Neutral','Sad','Surprise'] #for class labels of each emotion...\n",
    "\n",
    "\n",
    "cap = cv2.VideoCapture(0)           #Class for video capturing from video files, image sequences or cameras. \n",
    "                                    #The class provides C++ API for capturing video from cameras or for reading video files and image sequences\n",
    "\n",
    "\n",
    "while True:\n",
    "    # Grab a single frame of video\n",
    "    ret, frame = cap.read()\n",
    "    labels = []\n",
    "    gray = cv2.cvtColor(frame,cv2.COLOR_BGR2GRAY)\n",
    "    faces = face_classifier.detectMultiScale(gray,1.3,5)          #Detects objects of different sizes in the input image.\n",
    "\n",
    "    for (x,y,w,h) in faces:\n",
    "        cv2.rectangle(frame,(x,y),(x+w,y+h),(255,0,0),2)\n",
    "        roi_gray = gray[y:y+h,x:x+w]\n",
    "        roi_gray = cv2.resize(roi_gray,(48,48),interpolation=cv2.INTER_AREA)\n",
    "    # rect,face,image = face_detector(frame)\n",
    "\n",
    "\n",
    "        if np.sum([roi_gray])!=0:\n",
    "            roi = roi_gray.astype('float')/255.0\n",
    "            roi = img_to_array(roi)\n",
    "            roi = np.expand_dims(roi,axis=0)\n",
    "\n",
    "        # make a prediction on the ROI, then lookup the class\n",
    "\n",
    "            preds = classifier.predict(roi)[0]\n",
    "            label=class_labels[preds.argmax()]\n",
    "            label_position = (x,y)\n",
    "            cv2.putText(frame,label,label_position,cv2.FONT_HERSHEY_SIMPLEX,2,(0,255,0),3)\n",
    "        else:\n",
    "            cv2.putText(frame,'No Face Found',(20,60),cv2.FONT_HERSHEY_SIMPLEX,2,(0,255,0),3)\n",
    "    cv2.imshow('Emotion Detector',frame)\n",
    "    if cv2.waitKey(1) & 0xFF == ord('q'):                 #For closing the window\n",
    "        break\n",
    "\n",
    "cap.release()\n",
    "cv2.destroyAllWindows()             #simply destroys all the windows we created. \n",
    "\n",
    "\n",
    "\n",
    "\n"
   ]
  },
  {
   "cell_type": "code",
   "execution_count": 2,
   "metadata": {},
   "outputs": [
    {
     "name": "stdout",
     "output_type": "stream",
     "text": [
      "You feeling :Happy\n"
     ]
    }
   ],
   "source": [
    "#Emotion detected is here...........\n",
    "print(\"You feeling :\" + label)"
   ]
  },
  {
   "cell_type": "code",
   "execution_count": 3,
   "metadata": {},
   "outputs": [],
   "source": [
    "#Gives the emotion based youtube music recomendation list\n",
    "import webbrowser\n",
    "if(label=='Happy'):\n",
    "    webbrowser.open(\"https://www.youtube.com/results?search_query=romantic+songs\")\n",
    "elif(label=='Surprise'):\n",
    "    webbrowser.open(\"https://www.youtube.com/results?search_query=mood+fresh+songs\")\n",
    "elif(label=='Neutral'):\n",
    "    webbrowser.open(\"https://www.youtube.com/results?search_query=bhakti+geet\")\n",
    "elif(label=='Sad'):\n",
    "    webbrowser.open(\"https://www.youtube.com/results?search_query=mood+fresh+songs\")\n",
    "elif(label=='Angry'):\n",
    "    webbrowser.open(\"https://www.youtube.com/results?search_query=reduce+anger+music\")\n",
    "    \n",
    "    "
   ]
  },
  {
   "cell_type": "code",
   "execution_count": null,
   "metadata": {},
   "outputs": [],
   "source": []
  }
 ],
 "metadata": {
  "kernelspec": {
   "display_name": "Python 3",
   "language": "python",
   "name": "python3"
  },
  "language_info": {
   "codemirror_mode": {
    "name": "ipython",
    "version": 3
   },
   "file_extension": ".py",
   "mimetype": "text/x-python",
   "name": "python",
   "nbconvert_exporter": "python",
   "pygments_lexer": "ipython3",
   "version": "3.7.3"
  }
 },
 "nbformat": 4,
 "nbformat_minor": 2
}
